{
 "cells": [
  {
   "cell_type": "code",
   "execution_count": 1,
   "id": "a10d5102",
   "metadata": {},
   "outputs": [],
   "source": [
    "# import libraries \n",
    "\n",
    "from bs4 import BeautifulSoup\n",
    "import requests\n",
    "import time\n",
    "import datetime\n",
    "\n",
    "import smtplib"
   ]
  },
  {
   "cell_type": "code",
   "execution_count": 18,
   "id": "f37b92f0",
   "metadata": {},
   "outputs": [
    {
     "name": "stdout",
     "output_type": "stream",
     "text": [
      "\n",
      "                    Nike mens Lebron 19 Basketball Shoes\n",
      "                   \n",
      "\n",
      "                       $202.50\n",
      "                      \n"
     ]
    }
   ],
   "source": [
    "# Connect to Website and pull in data\n",
    "\n",
    "URL = 'https://www.amazon.com/Nike-Lebron-Basketball-Blackened-Medium/dp/B09T38JV55/ref=sr_1_5?crid=1L8G2ADC6XIG1&dib=eyJ2IjoiMSJ9.Gq2ZOtT383YCBbq6baKewzecOaVbG5uvO0YGgSeLyKR6rsiyCRPN6Cmve_GNdsbMDHGOiBVFDRLXWoXpuvmJEFF6rwnUCW-0trMnrZVnOTZvSD25iDOwaZYdn72FNTTrVZVnA4CfdkmLT6ABtgEb6kcJeP3ALlZBuys1vlM1KRxNoPxC_t5-2xpAigejnZBbx6jSnhPp2ORAy5kVm7jNqc9nZYL530nE_AqWjTD1x8Xk7GSNDxIHfLgWJ2PJW4cxDlJZ559efLqG6ndSv0AAL6zyc-6kYSpO7XrDwo9vFW0.PyunXW415ZpiC22YgSGrfCK1uGi-2qx-nAs31HokB7Q&dib_tag=se&keywords=lebron+james+shoes&qid=1710159713&sprefix=lebron+james+sho%2Caps%2C344&sr=8-5'\n",
    "\n",
    "headers = {\"User-Agent\": \"Mozilla/5.0 (Windows NT 10.0; Win64; x64) AppleWebKit/537.36 (KHTML, like Gecko) Chrome/78.0.3904.108 Safari/537.36\", \"Accept-Encoding\":\"gzip, deflate\", \"Accept\":\"text/html,application/xhtml+xml,application/xml;q=0.9,*/*;q=0.8\", \"DNT\":\"1\",\"Connection\":\"close\", \"Upgrade-Insecure-Requests\":\"1\"}\n",
    "\n",
    "page = requests.get(URL, headers=headers)\n",
    "\n",
    "soup1 = BeautifulSoup(page.content, \"html.parser\")\n",
    "\n",
    "soup2 = BeautifulSoup(soup1.prettify(), \"html.parser\")\n",
    "\n",
    "title = soup2.find(id='productTitle').get_text()\n",
    "\n",
    "price = soup2.find(\"span\", attrs={\"class\": 'a-price a-text-price a-size-medium apexPriceToPay'}).find(\"span\", attrs={'a-offscreen'}).get_text()\n",
    "\n",
    "\n",
    "\n",
    "print(title)\n",
    "print(price)"
   ]
  },
  {
   "cell_type": "code",
   "execution_count": 19,
   "id": "5d9821eb",
   "metadata": {},
   "outputs": [
    {
     "name": "stdout",
     "output_type": "stream",
     "text": [
      "Nike mens Lebron 19 Basketball Shoes\n",
      "202.50\n"
     ]
    }
   ],
   "source": [
    "# Cleaning the data a little bit\n",
    "\n",
    "price = price.strip()[1:]\n",
    "title = title.strip()\n",
    "\n",
    "print(title)\n",
    "print(price)"
   ]
  },
  {
   "cell_type": "code",
   "execution_count": 21,
   "id": "8a862fb0",
   "metadata": {},
   "outputs": [
    {
     "name": "stdout",
     "output_type": "stream",
     "text": [
      "2024-03-11\n"
     ]
    }
   ],
   "source": [
    "# Create a Timestamp for your output to track when data was collected\n",
    "\n",
    "import datetime\n",
    "\n",
    "today = datetime.date.today()\n",
    "\n",
    "print(today)"
   ]
  },
  {
   "cell_type": "code",
   "execution_count": 23,
   "id": "4535b687",
   "metadata": {},
   "outputs": [],
   "source": [
    "# Create CSV and write headers and data into the file\n",
    "\n",
    "import csv \n",
    "\n",
    "header = ['Title', 'Price', 'Date']\n",
    "data = [title, price, today]\n",
    "\n",
    "\n",
    "with open('WebScrapinginAmazonDataset.csv', 'w', newline='', encoding='UTF8') as f:\n",
    "    writer = csv.writer(f)\n",
    "    writer.writerow(header)\n",
    "    writer.writerow(data)"
   ]
  },
  {
   "cell_type": "code",
   "execution_count": 26,
   "id": "6fddfc66",
   "metadata": {},
   "outputs": [
    {
     "name": "stdout",
     "output_type": "stream",
     "text": [
      "                                  Title  Price        Date\n",
      "0  Nike mens Lebron 19 Basketball Shoes  202.5  2024-03-11\n",
      "1  Nike mens Lebron 19 Basketball Shoes  202.5  2024-03-11\n"
     ]
    }
   ],
   "source": [
    "import pandas as pd\n",
    "\n",
    "df = pd.read_csv(r'C:\\Users\\asus\\WebScrapinginAmazonDataset.csv')\n",
    "\n",
    "print(df)"
   ]
  },
  {
   "cell_type": "code",
   "execution_count": 25,
   "id": "d789f052",
   "metadata": {},
   "outputs": [],
   "source": [
    "#Appending more data to the csv\n",
    "\n",
    "with open('WebScrapinginAmazonDataset.csv', 'a+', newline='', encoding='UTF8') as f:\n",
    "    writer = csv.writer(f)\n",
    "    writer.writerow(data)"
   ]
  },
  {
   "cell_type": "code",
   "execution_count": 28,
   "id": "01d17bcc",
   "metadata": {},
   "outputs": [],
   "source": [
    "# Combining all functions to generate check price\n",
    "\n",
    "\n",
    "def check_price():\n",
    "    URL = 'https://www.amazon.com/Nike-Lebron-Basketball-Blackened-Medium/dp/B09T38JV55/ref=sr_1_5?crid=1L8G2ADC6XIG1&dib=eyJ2IjoiMSJ9.Gq2ZOtT383YCBbq6baKewzecOaVbG5uvO0YGgSeLyKR6rsiyCRPN6Cmve_GNdsbMDHGOiBVFDRLXWoXpuvmJEFF6rwnUCW-0trMnrZVnOTZvSD25iDOwaZYdn72FNTTrVZVnA4CfdkmLT6ABtgEb6kcJeP3ALlZBuys1vlM1KRxNoPxC_t5-2xpAigejnZBbx6jSnhPp2ORAy5kVm7jNqc9nZYL530nE_AqWjTD1x8Xk7GSNDxIHfLgWJ2PJW4cxDlJZ559efLqG6ndSv0AAL6zyc-6kYSpO7XrDwo9vFW0.PyunXW415ZpiC22YgSGrfCK1uGi-2qx-nAs31HokB7Q&dib_tag=se&keywords=lebron+james+shoes&qid=1710159713&sprefix=lebron+james+sho%2Caps%2C344&sr=8-5'\n",
    "\n",
    "    headers = {\"User-Agent\": \"Mozilla/5.0 (Windows NT 10.0; Win64; x64) AppleWebKit/537.36 (KHTML, like Gecko) Chrome/78.0.3904.108 Safari/537.36\", \"Accept-Encoding\":\"gzip, deflate\", \"Accept\":\"text/html,application/xhtml+xml,application/xml;q=0.9,*/*;q=0.8\", \"DNT\":\"1\",\"Connection\":\"close\", \"Upgrade-Insecure-Requests\":\"1\"}\n",
    "\n",
    "    page = requests.get(URL, headers=headers)\n",
    "\n",
    "    soup1 = BeautifulSoup(page.content, \"html.parser\")\n",
    "\n",
    "    soup2 = BeautifulSoup(soup1.prettify(), \"html.parser\")\n",
    "\n",
    "    title = soup2.find(id='productTitle').get_text()\n",
    "\n",
    "    price = soup2.find(\"span\", attrs={\"class\": 'a-price a-text-price a-size-medium apexPriceToPay'}).find(\"span\", attrs={'a-offscreen'}).get_text()\n",
    "\n",
    "    import datetime\n",
    "\n",
    "    today = datetime.date.today()\n",
    "    \n",
    "    import csv \n",
    "\n",
    "    header = ['Title', 'Price', 'Date']\n",
    "    data = [title, price, today]\n",
    "\n",
    "    with open('WebScrapinginAmazonDataset.csv', 'a+', newline='', encoding='UTF8') as f:\n",
    "        writer = csv.writer(f)\n",
    "        writer.writerow(data)\n"
   ]
  },
  {
   "cell_type": "code",
   "execution_count": null,
   "id": "3763c9d6",
   "metadata": {},
   "outputs": [],
   "source": [
    "# Running check_price in 86,400 seconds or in 1 Day and inputs data into your CSV\n",
    "\n",
    "while(True):\n",
    "    check_price()\n",
    "    time.sleep(86400)\n"
   ]
  },
  {
   "cell_type": "code",
   "execution_count": null,
   "id": "c77f1fb8",
   "metadata": {},
   "outputs": [],
   "source": [
    "import pandas as pd\n",
    "\n",
    "df = pd.read_csv(r'C:\\Users\\asus\\WebScrapinginAmazonDataset.csv')\n",
    "\n",
    "print(df)"
   ]
  },
  {
   "cell_type": "code",
   "execution_count": null,
   "id": "fd339842",
   "metadata": {},
   "outputs": [],
   "source": [
    "# Sending an email when a price hits below a certain level\n",
    "\n",
    "def send_mail():\n",
    "    server = smtplib.SMTP_SSL('smtp.gmail.com',465)\n",
    "    server.ehlo()\n",
    "    #server.starttls()\n",
    "    server.ehlo()\n",
    "    server.login('rcleah13@gmail.com','xxxxxxxxxxxxxxxxxx')\n",
    "    \n",
    "    subject = \"The Shirt you want is below $15! Now is your chance to buy!\"\n",
    "    body = \"Alex, This is the moment we have been waiting for. Now is your chance to pick up the shirt of your dreams. Don't mess it up! Link here: https://www.amazon.com/Funny-Data-Systems-Business-Analyst/dp/B07FNW9FGJ/ref=sr_1_3?dchild=1&keywords=data+analyst+tshirt&qid=1626655184&sr=8-3\"\n",
    "   \n",
    "    msg = f\"Subject: {subject}\\n\\n{body}\"\n",
    "    \n",
    "    server.sendmail(\n",
    "        'rcleah13@gmail.com',\n",
    "        msg\n",
    "     \n",
    "    )"
   ]
  },
  {
   "cell_type": "code",
   "execution_count": null,
   "id": "bc5faa4d",
   "metadata": {},
   "outputs": [],
   "source": []
  }
 ],
 "metadata": {
  "kernelspec": {
   "display_name": "Python 3 (ipykernel)",
   "language": "python",
   "name": "python3"
  },
  "language_info": {
   "codemirror_mode": {
    "name": "ipython",
    "version": 3
   },
   "file_extension": ".py",
   "mimetype": "text/x-python",
   "name": "python",
   "nbconvert_exporter": "python",
   "pygments_lexer": "ipython3",
   "version": "3.11.5"
  }
 },
 "nbformat": 4,
 "nbformat_minor": 5
}
